{
 "cells": [
  {
   "cell_type": "code",
   "execution_count": 21,
   "metadata": {},
   "outputs": [],
   "source": [
    "from math import cos, log10, sin\n",
    "import matplotlib.pyplot as plt\n",
    "import numpy as np\n",
    "import sympy as sp\n",
    "import math as m\n",
    "\n",
    "from RK_class import RK_method\n"
   ]
  },
  {
   "cell_type": "code",
   "execution_count": 40,
   "metadata": {},
   "outputs": [],
   "source": [
    "class VIDE_RK_method(RK_method):\n",
    "    def __init__(self, e, w, d, A, b, c, n=None):\n",
    "        super().__init__(A, b, c, n)\n",
    "        self.e=e\n",
    "        self.w=w\n",
    "        self.d=d\n",
    "        self.method_param_check_()\n",
    "\n",
    "    def method_param_check_(self):\n",
    "        for i in range(self.s-1):\n",
    "            assert self.d[i]>=self.c[i],f'{self.d[i]},< {self.c[i]}'\n",
    "        assert len(self.e)==len(self.w),'w and e are vectors for counting intergration tail. they should have the same length.'\n",
    "        assert len(self.d)==self.s,'d should be the same length as others method vectors = s.'\n",
    "        \n",
    "    def get_solution_VIDE(self, x0:float, x1:float, y0, f, K, h:float, limit=None):\n",
    "        limit=limit if limit else lambda x:x0\n",
    "        assert callable(f), \"f(x,y,F)-eq for sol\"\n",
    "        assert callable(K), \"K(x,s, y(s))-integration eq for sol\"\n",
    "        assert callable(y0), \"y0(t) should retern past\"\n",
    "        assert x0+h<x1, \"x0-start of sol, x1-end, h-step. It shouldnt be x0+h>x1\"\n",
    "        if(not self.b_teta):\n",
    "            print('need some time for find b_teta')\n",
    "            self.b_teta_calc()\n",
    "            print('done it. Starting to calculate solution')\n",
    "\n",
    "        def binarySearch(x, arr):\n",
    "            mid = len(arr) // 2\n",
    "            low = 0\n",
    "            high = len(arr) - 1\n",
    "\n",
    "            while arr[mid] != x and low <= high:\n",
    "                if x > arr[mid]:\n",
    "                    low = mid + 1\n",
    "                else:\n",
    "                    high = mid - 1\n",
    "                mid = (low + high) // 2\n",
    "\n",
    "            return mid\n",
    "        def new_y(i, h, teta):\n",
    "            if(teta==0):return Y[i]\n",
    "            if(teta==1 and len(Y)-1!=i):return Y[i+1]\n",
    "            return Y[i]+h*sum([F[i][j]*self.b_teta[j](teta) for j in range(4)])\n",
    "        \n",
    "        def integration_K(t):\n",
    "            res = 0\n",
    "            start = binarySearch(limit(t), X)\n",
    "            end = binarySearch(t, X)\n",
    "            if start<0:\n",
    "                if end<0:\n",
    "                    for i in range(limit(t), t, h):\n",
    "                        res+=h*sum([self.w[j]*K(t, i+h*self.e[j],y0(i+h*self.e[j])) for j in range(len(self.w))])\n",
    "                    return res\n",
    "                for i in range(limit(t), x0, h):\n",
    "                    res+=h*sum([self.w[j]*K(t, i+h*self.e[j],y0(i+h*self.e[j])) for j in range(len(self.w))])\n",
    "                start+=1\n",
    "            elif limit(t)!=X[start]:\n",
    "                h_ = X[start + 1] - limit(t)\n",
    "                res+=h_*sum([self.w[j]*K(t, limit(t)+h_*self.e[j],new_y(start, h_, self.e[j])) for j in range(len(self.w))])\n",
    "                start+=1\n",
    "            \n",
    "            for i in range(start, end):\n",
    "                res+=h*sum([self.w[j]*K(t, X[i]+h*self.e[j],new_y(i, h, self.e[j])) for j in range(len(self.w))])\n",
    "                if(m.isnan(res)):\n",
    "                    print(sum([self.w[j]*K(t, X[i]+h*self.e[j],new_y(i, h, self.e[j])) for j in range(len(self.w))]))\n",
    "            \n",
    "            return res\n",
    "        \n",
    "        def Y_Z_f(h):\n",
    "            Y_=[]\n",
    "            Z_=[]\n",
    "            F_=[integration_K(X[-1]+self.c[i]*h) for i in range(self.s)]\n",
    "            for i in range(self.s):\n",
    "                for j in range(i):\n",
    "                    if(m.isnan(f(X[-1]+self.c[j]*h,Y_[j],F_[j]+Z_[j]))):\n",
    "                        print(X[-1]+self.c[j]*h,Y_[j],F_[j], Z_[j])\n",
    "                Y_.append(Y[-1]+sum([self.A[i][j]*f(X[-1]+self.c[j]*h,Y_[j],F_[j]+Z_[j]) for j in range(i)]))\n",
    "                Z_.append(h*sum([self.A[i][j]*K(X[-1]+self.d[j]*h,X[-1]+self.c[j]*h,Y_[j]) for j in range(i)]))\n",
    "            f_=[f(X[-1]+self.c[i]*h,Y_[i],F_[i]+Z_[i]) for i in range(self.s)]\n",
    "            return(f_)\n",
    "\n",
    "        X=[x0]\n",
    "        Y=[y0(x0)]\n",
    "        F=[]\n",
    "        while X[-1]+h<=x1:\n",
    "            F.append(Y_Z_f(h))\n",
    "            Y.append(new_y(len(F)-1, h, 1))\n",
    "            X.append(X[-1]+h)\n",
    "        if X[-1]!=x1:\n",
    "            F.append(Y_Z_f(x1-X[-1]))\n",
    "            Y.append(new_y(len(F)-1, h, 1))\n",
    "            X.append(x1)\n",
    "        return(X,Y) \n",
    "  "
   ]
  },
  {
   "cell_type": "code",
   "execution_count": 14,
   "metadata": {},
   "outputs": [],
   "source": [
    "A = [[0,0,0,0],\n",
    "   [1/2,0,0,0],\n",
    "   [0,1/2,0,0],\n",
    "   [0,0,1,0]]\n",
    "b=[1/6,1/3,1/3,1/6]\n",
    "c=[0,1/2,1/2,1]\n",
    "d=[1/2, 1/2, 1, 0]\n",
    "w=[1/6,2/3,1/6]\n",
    "e=[0,1/2,1]\n",
    "b_param=[lambda teta: teta-3/2*teta*teta+2/3*teta**3, \n",
    "        lambda teta: teta**2-2/3*teta**3,\n",
    "        lambda teta: teta**2-2/3*teta**3,\n",
    "        lambda teta: 2/3*teta**3-teta**2/2]"
   ]
  },
  {
   "cell_type": "code",
   "execution_count": 41,
   "metadata": {},
   "outputs": [],
   "source": [
    "VIDE_RK_method1=VIDE_RK_method(e, w, d, A,b,c, 4)\n",
    "VIDE_RK_method1.set_b_teta(b_param)"
   ]
  },
  {
   "cell_type": "code",
   "execution_count": 72,
   "metadata": {},
   "outputs": [
    {
     "data": {
      "image/png": "[encoded data removed]",
      "text/plain": [
       "<Figure size 640x480 with 1 Axes>"
      ]
     },
     "metadata": {},
     "output_type": "display_data"
    }
   ],
   "source": [
    "x0=0\n",
    "def y0(x):\n",
    "    return 1\n",
    "x1=3\n",
    "def K(x, s, y_s):\n",
    "    return y_s\n",
    "def f(x,y,F):\n",
    "    return 6.4*y-4096*F\n",
    "# def y_true(t):\n",
    "#     return -cos(t)\n",
    "\n",
    "X,Y=VIDE_RK_method1.get_solution_VIDE(x0, x1, y0, f, K, 1/2**5)\n",
    "VIDE_RK_method1.get_Graph_Solution(X,Y)\n"
   ]
  },
  {
   "cell_type": "code",
   "execution_count": 75,
   "metadata": {},
   "outputs": [
    {
     "name": "stdout",
     "output_type": "stream",
     "text": [
      "[20, -60.0, -1199.9999999999995, 43620.0, -1088580.0000000005, 25156680.000000037, -569522460.0000012, 12818119380.000027, -288005660400.00073, 6467900602740.019, -145232285400660.53, 3260954888016377.5, -7.321854579857787e+16, 1.6439774596203515e+18, -3.6912220096599286e+19, 8.287896962371874e+20, -1.8608804836678358e+22, 4.178232549168064e+23, -9.381380081595671e+24, 2.1064000389350405e+26, -4.729497240917055e+27, 1.061913394142496e+29, -2.3843127485984328e+30, 5.35349428154599e+31, -1.202019367604368e+33, 2.698892506665409e+34, -6.059819798951269e+35, 1.3606105432160533e+37, -3.0549770648807206e+38, 6.859335989626492e+39, -1.5401258084542161e+41, 3.458042454042137e+42, -7.764338178294504e+43, 1.743325830961213e+45, -3.914287197578226e+46, 8.788743901463883e+47, -1.973335513380527e+49, 4.43072763528834e+50, -9.94830693766682e+51, 2.2336920495359926e+53, -5.015305823817359e+54, 1.1260859576252441e+56, -2.528399321012056e+57, 5.67701167322586e+58, -1.2746586850467274e+60, 2.861989470671311e+61, -6.426021197928113e+62, 1.442833695210471e+64, -3.2395926000149336e+65]\n"
     ]
    },
    {
     "data": {
      "image/png": "[encoded data removed]",
      "text/plain": [
       "<Figure size 640x480 with 1 Axes>"
      ]
     },
     "metadata": {},
     "output_type": "display_data"
    }
   ],
   "source": [
    "x0=0\n",
    "def y0(x):\n",
    "    return 20\n",
    "x1=3\n",
    "\n",
    "def K(x, s, y_s):\n",
    "    return y_s\n",
    "def f(x,y,F):\n",
    "    return -16*y-1536*F\n",
    "# def y_true(t):\n",
    "#     return -cos(t)\n",
    "\n",
    "X,Y=VIDE_RK_method1.get_solution_VIDE(x0, x1, y0, f, K, 1/2**4)\n",
    "VIDE_RK_method1.get_Graph_Solution(X,Y)\n",
    "print(Y)"
   ]
  }
 ],
 "metadata": {
  "kernelspec": {
   "display_name": "Python 3",
   "language": "python",
   "name": "python3"
  },
  "language_info": {
   "codemirror_mode": {
    "name": "ipython",
    "version": 3
   },
   "file_extension": ".py",
   "mimetype": "text/x-python",
   "name": "python",
   "nbconvert_exporter": "python",
   "pygments_lexer": "ipython3",
   "version": "3.10.7"
  }
 },
 "nbformat": 4,
 "nbformat_minor": 2
}
